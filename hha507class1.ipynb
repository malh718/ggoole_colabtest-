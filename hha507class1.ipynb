{
  "nbformat": 4,
  "nbformat_minor": 0,
  "metadata": {
    "colab": {
      "provenance": [],
      "toc_visible": true,
      "authorship_tag": "ABX9TyPOePhnlQcwEztBumVcJZG/",
      "include_colab_link": true
    },
    "kernelspec": {
      "name": "python3",
      "display_name": "Python 3"
    },
    "language_info": {
      "name": "python"
    }
  },
  "cells": [
    {
      "cell_type": "markdown",
      "metadata": {
        "id": "view-in-github",
        "colab_type": "text"
      },
      "source": [
        "<a href=\"https://colab.research.google.com/github/malh718/ggoole_colabtest-/blob/main/hha507class1.ipynb\" target=\"_parent\"><img src=\"https://colab.research.google.com/assets/colab-badge.svg\" alt=\"Open In Colab\"/></a>"
      ]
    },
    {
      "cell_type": "markdown",
      "source": [
        "# Loading Packages\n"
      ],
      "metadata": {
        "id": "4EcUybWGzSl_"
      }
    },
    {
      "cell_type": "code",
      "source": [
        "import pandas as pd\n",
        "import seaborn as sns\n",
        "import plotly as plt"
      ],
      "metadata": {
        "id": "CFrpjwQSzWzq"
      },
      "execution_count": null,
      "outputs": []
    },
    {
      "cell_type": "code",
      "source": [
        "!pip freeze> packages.txt\n"
      ],
      "metadata": {
        "id": "Zaerkb6zzh7o"
      },
      "execution_count": 2,
      "outputs": []
    },
    {
      "cell_type": "markdown",
      "source": [
        "# Creating Functions\n"
      ],
      "metadata": {
        "id": "M_A6MQDp0G1O"
      }
    },
    {
      "cell_type": "code",
      "execution_count": null,
      "metadata": {
        "id": "Ux3-ZEn9wLlI"
      },
      "outputs": [],
      "source": [
        "def bloodpress( systolic, diastolic):\n",
        "  total= systolic + diastolic\n",
        "  return total\n"
      ]
    },
    {
      "cell_type": "code",
      "source": [
        "367\n"
      ],
      "metadata": {
        "colab": {
          "base_uri": "https://localhost:8080/"
        },
        "id": "CpzMmGx93Adx",
        "outputId": "8191f873-8ece-4e9d-f79d-4ac15f20e541"
      },
      "execution_count": 3,
      "outputs": [
        {
          "output_type": "execute_result",
          "data": {
            "text/plain": [
              "367"
            ]
          },
          "metadata": {},
          "execution_count": 3
        }
      ]
    },
    {
      "cell_type": "markdown",
      "source": [
        "# Testing functions"
      ],
      "metadata": {
        "id": "sX4XYhquzBJF"
      }
    },
    {
      "cell_type": "code",
      "source": [
        "def bloodsugat (value):\n",
        "  valuetoprint= f\"ur blood sigar is (value)\"\n",
        "  return valuetoprint"
      ],
      "metadata": {
        "id": "rLPTCsAoyO7x"
      },
      "execution_count": null,
      "outputs": []
    },
    {
      "cell_type": "code",
      "source": [
        "# test for blood pressure\n",
        "test1= bloodpress"
      ],
      "metadata": {
        "id": "8B62ar4AyiR6"
      },
      "execution_count": null,
      "outputs": []
    },
    {
      "cell_type": "markdown",
      "source": [],
      "metadata": {
        "id": "TDKYVKt2zAU5"
      }
    }
  ]
}